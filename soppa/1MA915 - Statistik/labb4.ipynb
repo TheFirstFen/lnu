{
 "cells": [
  {
   "cell_type": "markdown",
   "metadata": {},
   "source": [
    "# Laboration 4: Linjär regression\n",
    "Denna laboration består av fem mindre obligatoriska uppgifter. Alla avser olika aspekter av linjär regression för ett problem med riskfaktorer för typ-2 diabetes. Linjär regression är anlogt med minsta-kvadratmetoden som ni studerat i linjär algebra. Skillnaden är att vi kommer att tolka och analysera metoden utifrån perspektivet av sannolikhetslära och statistik. Avvikkelser hos data från anpassad rät linje tolkas som normalfördelade och oberoende. Parametrar skattas med tillhörande konfidensintervall. Linjär regression är en grundpelare och naturlig *base line* inom dataanalys och maskininlärning. \n",
    "\n",
    "## Obligatorisk förberedelse innan laborationen startar\n",
    "Studera video och tillhörande anteckningar om linjär regression. Huvudexempelet som gås igenom där finns även beskrivet i kursboken (Walpole et al). Läshänvisningar för detta finner ni i studieguiden. **I studieguiden finns även rekommenderade uppgifter som ni förväntas lösa innan laborationen för att förstå vad det hela går ut på.** Videon går lite djupare än boken på vissa detaljer som inte är nödvändiga för att lösa uppgifterna men som kan bidra till djupare förståelse kring varför formler och slutsatser ser ut som de gör.\n",
    "## Genomförande\n",
    "Laborationen genomförs på plats i sal i par eller enskilt. Om man arbetar i par växlar man mellan att vara navigatör och kodare i skift om 10-15 minuter.\n",
    "## Examination\n",
    "Laborationen examineras på plats genom att visa upp lösningar och svara på frågor kring lösningarna. "
   ]
  },
  {
   "cell_type": "markdown",
   "metadata": {},
   "source": [
    "____________________________________________________________\n",
    "____________________________________________________________\n",
    "\n",
    "## Ladda data\n",
    "I en studie av riskfaktorer för typ-2 diabetes undersöktes människor i åldern 35-55 år. Diastoliskt blodtryck y i mmHg, och ålder x i år för ett urval av 20 av dessa personer analyseras enligt enkel linjär\n",
    "regression. Data finns i filen Blodtryck. Vi börjar med att läsa in data, vilket enklast görs med \n",
    "```diabetes_data = np.genfromtxt('ditt_filnamn.csv', delimiter=',')```\n"
   ]
  },
  {
   "cell_type": "code",
   "execution_count": null,
   "metadata": {},
   "outputs": [],
   "source": [
    "## fyll på kod, och ladda in data"
   ]
  },
  {
   "cell_type": "markdown",
   "metadata": {},
   "source": [
    "## Visualisera\n",
    "I nästa steg ska du plotta datamaterialet. Använd förslagsvis kommandot ```sns.scatterplot```. Är det rimligt att anta en linjär regressions modell?"
   ]
  },
  {
   "cell_type": "code",
   "execution_count": null,
   "metadata": {},
   "outputs": [],
   "source": [
    "## fyll på med kod, och visualisera din data"
   ]
  },
  {
   "cell_type": "markdown",
   "metadata": {},
   "source": [
    "## Anpasssa din modell\n",
    "Om vi antar en teoretisk modell\n",
    "$y = kx + m + \\varepsilon$, \n",
    "där $\\varepsilon \\sim N(0, \\sigma^2)$, kan vi givet data, anpassa en regressionslinje $E[y] = \\hat{k}x + \\hat{m}$:\n",
    "<ol type=\"a\">\n",
    "  <li>Beräkna skattningarna k^ och m^ med hjälp av normalekvationen.</li>\n",
    "  <li>Vad är tolkningen av dessa skattningar? Är värdet m^ rimligt i sammanhanget?</li>\n",
    "  <li>Plotta regressionslinjen i samma plot som användes i 1).</li>\n",
    "</ol>"
   ]
  },
  {
   "cell_type": "code",
   "execution_count": null,
   "metadata": {},
   "outputs": [],
   "source": [
    "## fyll på med kod"
   ]
  },
  {
   "cell_type": "markdown",
   "metadata": {},
   "source": [
    "## Konfidens och korrelation\n",
    "I denna uppgift ska du beräkna ett 95% konfidensintervall för $\\hat{k}$? Innehåller intervallet 0? Vad tyder det på? Du ska även beräkna korrelationen mellan $x$ och $y$. Vad tyder detta på?"
   ]
  },
  {
   "cell_type": "code",
   "execution_count": null,
   "metadata": {},
   "outputs": [],
   "source": [
    "## fyll på med kod"
   ]
  },
  {
   "cell_type": "markdown",
   "metadata": {},
   "source": [
    "## Prediktion\n",
    "Charlie Sheen (52 år) vill nu mäta sitt blodtryck. Om man inte tar hänsyn till hans livsstil och använder sig bara av vår datamängd, vad blir 95% intervall för den mätningen. Vilket intervall (konfidens-/prediktions-) använder vi i detta fall?"
   ]
  },
  {
   "cell_type": "code",
   "execution_count": null,
   "metadata": {},
   "outputs": [],
   "source": [
    "## fyll på med kod"
   ]
  }
 ],
 "metadata": {
  "kernelspec": {
   "display_name": "Python 3",
   "language": "python",
   "name": "python3"
  },
  "language_info": {
   "codemirror_mode": {
    "name": "ipython",
    "version": 3
   },
   "file_extension": ".py",
   "mimetype": "text/x-python",
   "name": "python",
   "nbconvert_exporter": "python",
   "pygments_lexer": "ipython3",
   "version": "3.7.6"
  }
 },
 "nbformat": 4,
 "nbformat_minor": 5
}
