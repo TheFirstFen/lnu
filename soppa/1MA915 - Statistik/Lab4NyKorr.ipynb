{
 "cells": [
  {
   "attachments": {},
   "cell_type": "markdown",
   "metadata": {},
   "source": [
    "# Laboration 4: Linjär regression\n",
    "Denna laboration består av fem mindre obligatoriska uppgifter. Alla avser olika aspekter av linjär regression för ett problem med riskfaktorer för typ-2 diabetes. Linjär regression är anlogt med minsta-kvadratmetoden som ni studerat i linjär algebra. Skillnaden är att vi kommer att tolka och analysera metoden utifrån perspektivet av sannolikhetslära och statistik. Avvikkelser hos data från anpassad rät linje tolkas som normalfördelade och oberoende. Parametrar skattas med tillhörande konfidensintervall. Linjär regression är en grundpelare och naturlig *base line* inom dataanalys och maskininlärning. \n",
    "\n",
    "## Obligatorisk förberedelse innan laborationen startar\n",
    "Studera video och tillhörande anteckningar om linjär regression. Huvudexempelet som gås igenom där finns även beskrivet i kursboken (Walpole et al). Läshänvisningar för detta finner ni i studieguiden. **I studieguiden finns även rekommenderade uppgifter som ni förväntas lösa innan laborationen för att förstå vad det hela går ut på.** Videon går lite djupare än boken på vissa detaljer som inte är nödvändiga för att lösa uppgifterna men som kan bidra till djupare förståelse kring varför formler och slutsatser ser ut som de gör.\n",
    "## Genomförande\n",
    "Laborationen genomförs på plats i sal i par eller enskilt. Om man arbetar i par växlar man mellan att vara navigatör och kodare i skift om 10-15 minuter.\n",
    "## Examination\n",
    "Laborationen examineras på plats genom att visa upp lösningar och svara på frågor kring lösningarna. "
   ]
  },
  {
   "attachments": {},
   "cell_type": "markdown",
   "metadata": {},
   "source": [
    "____________________________________________________________\n",
    "____________________________________________________________\n",
    "\n",
    "## Ladda data\n",
    "I en studie av riskfaktorer för typ-2 diabetes undersöktes människor i åldern 35-55 år. Diastoliskt blodtryck y i mmHg, och ålder x i år för ett urval av 20 av dessa personer analyseras enligt enkel linjär\n",
    "regression. Data finns i filen Blodtryck. Vi börjar med att läsa in data, vilket enklast görs med \n",
    "```diabetes_data = np.genfromtxt('ditt_filnamn.csv', delimiter=',')```\n"
   ]
  },
  {
   "cell_type": "code",
   "execution_count": 2,
   "metadata": {},
   "outputs": [],
   "source": [
    "import numpy as np\n",
    "import seaborn as sns\n",
    "import pandas as pd\n",
    "\n",
    "diabetes_data = np.genfromtxt('blodtryck.csv', delimiter=',')\n",
    "df = pd.DataFrame({'År': diabetes_data[:, 0], 'mmHg': diabetes_data[:, 1]})\n",
    "\n",
    "\n",
    "\n"
   ]
  },
  {
   "attachments": {},
   "cell_type": "markdown",
   "metadata": {},
   "source": [
    "## Visualisera\n",
    "I nästa steg ska du plotta datamaterialet. Använd förslagsvis kommandot ```sns.scatterplot```. Är det rimligt att anta en linjär regressions modell?"
   ]
  },
  {
   "cell_type": "code",
   "execution_count": 3,
   "metadata": {},
   "outputs": [
    {
     "data": {
      "text/plain": [
       "<Axes: xlabel='År', ylabel='mmHg'>"
      ]
     },
     "execution_count": 3,
     "metadata": {},
     "output_type": "execute_result"
    },
    {
     "data": {
      "image/png": "[encoded data removed]",
      "text/plain": [
       "<Figure size 432x288 with 1 Axes>"
      ]
     },
     "metadata": {
      "needs_background": "light"
     },
     "output_type": "display_data"
    }
   ],
   "source": [
    "sns.scatterplot(data=df, x=\"År\", y=\"mmHg\")"
   ]
  },
  {
   "attachments": {},
   "cell_type": "markdown",
   "metadata": {},
   "source": [
    "## Anpasssa din modell\n",
    "Om vi antar en teoretisk modell\n",
    "$y = kx + m + \\varepsilon$, \n",
    "där $\\varepsilon \\sim N(0, \\sigma^2)$, kan vi givet data, anpassa en regressionslinje $E[y] = \\hat{k}x + \\hat{m}$:\n",
    "<ol type=\"a\">\n",
    "  <li>Beräkna skattningarna k^ och m^ med hjälp av normalekvationen.</li>\n",
    "  <li>Vad är tolkningen av dessa skattningar? Är värdet m^ rimligt i sammanhanget?</li>\n",
    "  <li>Plotta regressionslinjen i samma plot som användes i 1).</li>\n",
    "</ol>"
   ]
  },
  {
   "cell_type": "code",
   "execution_count": 4,
   "metadata": {},
   "outputs": [
    {
     "name": "stdout",
     "output_type": "stream",
     "text": [
      "k_hat: 1.0483870967741935\n",
      "m_hat: 33.072580645161295\n",
      "Ja m värdet är fullt rimligt \n"
     ]
    },
    {
     "data": {
      "text/plain": [
       "<Axes: xlabel='År', ylabel='mmHg'>"
      ]
     },
     "execution_count": 4,
     "metadata": {},
     "output_type": "execute_result"
    },
    {
     "data": {
      "image/png": "[encoded data removed]",
      "text/plain": [
       "<Figure size 432x288 with 1 Axes>"
      ]
     },
     "metadata": {
      "needs_background": "light"
     },
     "output_type": "display_data"
    }
   ],
   "source": [
    "x = diabetes_data[:, 0]\n",
    "y = diabetes_data[:, 1]\n",
    "\n",
    "n = len(x)\n",
    "\n",
    "sum_x = np.sum(x)\n",
    "sum_y = np.sum(y)\n",
    "sum_x_squared = np.sum(x**2)\n",
    "sum_xy = np.sum(x*y)\n",
    "\n",
    "Sxx = sum_x_squared - ((sum_x**2) / n)\n",
    "Sxy = sum_xy - ((sum_x * sum_y) / n)\n",
    "\n",
    "k_hat = Sxy / Sxx\n",
    "m_hat = (sum_y / n) - (k_hat * (sum_x / n))\n",
    "\n",
    "print(f\"k_hat: {k_hat}\")\n",
    "print(f\"m_hat: {m_hat}\")\n",
    "print(\"Ja m värdet är fullt rimligt \")\n",
    "\n",
    "sns.scatterplot(data=df, x=\"År\", y=\"mmHg\")\n",
    "sns.lineplot(x=x, y=k_hat*x + m_hat)\n",
    "\n"
   ]
  },
  {
   "attachments": {},
   "cell_type": "markdown",
   "metadata": {},
   "source": [
    "## Konfidens och korrelation\n",
    "I denna uppgift ska du beräkna ett 95% konfidensintervall för $\\hat{k}$? Innehåller intervallet 0? Vad tyder det på? Du ska även beräkna korrelationen mellan $x$ och $y$. Vad tyder detta på?"
   ]
  },
  {
   "cell_type": "code",
   "execution_count": 5,
   "metadata": {},
   "outputs": [
    {
     "name": "stdout",
     "output_type": "stream",
     "text": [
      "[0.7309461027515392, 1.3658280907968479]   (95%)\n",
      "Nej 0 är ej med i intervallet\n",
      "\n",
      "Korrelation mellan x och y: 0.853047633587471\n",
      "Värde nära 1 tyder på en korrekt prediktion\n"
     ]
    }
   ],
   "source": [
    "from math import sqrt\n",
    "# Tabellvärde\n",
    "t = 2.10\n",
    "\n",
    "sum_y_squared = np.sum(y**2)\n",
    "Syy = sum_y_squared - ((sum_y ** 2) / n)\n",
    "S_squared = (1 / 18) * (Syy - ((Sxy ** 2) / Sxx))\n",
    "s = sqrt(S_squared)\n",
    "\n",
    "Tmin = k_hat - (t * (s/sqrt(Sxx)))\n",
    "Tmax = k_hat + (t * (s/sqrt(Sxx)))\n",
    "\n",
    "r = np.corrcoef(x, y)\n",
    "\n",
    "print(f\"[{Tmin}, {Tmax}]   (95%)\")\n",
    "print(\"Nej 0 är ej med i intervallet\\n\")\n",
    "\n",
    "print(f\"Korrelation mellan x och y: {r[0, 1]}\")\n",
    "print(\"Värde nära 1 tyder på en korrekt prediktion\")\n",
    "\n",
    "\n"
   ]
  },
  {
   "attachments": {},
   "cell_type": "markdown",
   "metadata": {},
   "source": [
    "## Prediktion\n",
    "Charlie Sheen (52 år) vill nu mäta sitt blodtryck. Om man inte tar hänsyn till hans livsstil och använder sig bara av vår datamängd, vad blir 95% intervall för den mätningen. Vilket intervall (konfidens-/prediktions-) använder vi i detta fall?"
   ]
  },
  {
   "cell_type": "code",
   "execution_count": 6,
   "metadata": {},
   "outputs": [
    {
     "name": "stdout",
     "output_type": "stream",
     "text": [
      "[78.44222155101846, 96.73519780382026]   (95%)\n"
     ]
    }
   ],
   "source": [
    "# Använder prediktionsintervall\n",
    "x_cha = 52\n",
    "\n",
    "y_pred = k_hat * x_cha + m_hat\n",
    "\n",
    "wrong_pred = s * sqrt(1 + (1 / n) + ((x_cha - np.mean(x))**2 / Sxx))\n",
    "\n",
    "ChaMin = y_pred - t * wrong_pred\n",
    "ChaMax = y_pred + t * wrong_pred\n",
    "\n",
    "print(f\"[{ChaMin}, {ChaMax}]   (95%)\")\n"
   ]
  }
 ],
 "metadata": {
  "kernelspec": {
   "display_name": "Python 3",
   "language": "python",
   "name": "python3"
  },
  "language_info": {
   "codemirror_mode": {
    "name": "ipython",
    "version": 3
   },
   "file_extension": ".py",
   "mimetype": "text/x-python",
   "name": "python",
   "nbconvert_exporter": "python",
   "pygments_lexer": "ipython3",
   "version": "3.9.12"
  }
 },
 "nbformat": 4,
 "nbformat_minor": 5
}
