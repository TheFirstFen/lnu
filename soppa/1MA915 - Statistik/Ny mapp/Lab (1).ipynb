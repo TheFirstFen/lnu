{
 "cells": [
  {
   "cell_type": "markdown",
   "id": "8c3bf844",
   "metadata": {},
   "source": [
    "# Sannolikhetslära och statistik 1ma915"
   ]
  },
  {
   "cell_type": "markdown",
   "id": "c9ea7eb4",
   "metadata": {},
   "source": [
    "Tänken med denna arbetsbok är att den ska läsas och exekverars sekventiellt. När en cell och tillhörande kodblock har lästs så exekveras denna (shift+enter), för att variablerna ska tilldelas korrekt värden eftersom de kan komma att användas i senare kodblock.\n",
    "\n",
    "Vissa kodblock ska endast exekveras för att tilldela värden till variabler, rita upp figurer eller importera bibliotek. Andra kodblock är kräver att du som student ska föra in information eller komplettera koden för att det ska fungera. Dessa är då utmärkta med ett antal asterisker där kod förväntas fyllas i.\n",
    "\n",
    "\n",
    "Vi börjar med att importera de Python-biblotek som vi kommer att behöva för laborationen.\n",
    "* numpy (hantering av vektorer och matriser)\n",
    "* scipy (vetenskapliga beräkningar)\n",
    "* seaborn (visualisering av data)\n",
    "* matplotlib (visualisering)\n",
    "* pandas (datahantering)"
   ]
  },
  {
   "cell_type": "code",
   "execution_count": 2,
   "id": "d807e48f",
   "metadata": {},
   "outputs": [],
   "source": [
    "import numpy as np\n",
    "import scipy.stats as ss\n",
    "import seaborn as sns\n",
    "import matplotlib.pyplot as plt\n",
    "import pandas as pd"
   ]
  },
  {
   "cell_type": "markdown",
   "id": "010cb5b4",
   "metadata": {},
   "source": [
    "## Numpy\n",
    "\n",
    "Vi kommer att börja titta på det första paketet _numpy_. Detta är ett paket som hjälper oss att hantera mångdimensionella arrayer, t.ex. matriser och vektorer.\n",
    "\n",
    "Numpy-objekt kan enkelt skapas upp med kommandot np.array, t.ex.\n",
    "```\n",
    "A = np.array([[1, 2, 3], [1, 1, -1]])\n",
    "```\n",
    "Vi kan kontrollera storleken av en sådan array m.h.a kommandot np.shape. I fallet ovan förväntar vi oss en shape (2, 3)."
   ]
  },
  {
   "cell_type": "code",
   "execution_count": 3,
   "id": "9f44534b",
   "metadata": {},
   "outputs": [
    {
     "data": {
      "text/plain": [
       "(2, 3)"
      ]
     },
     "execution_count": 3,
     "metadata": {},
     "output_type": "execute_result"
    }
   ],
   "source": [
    "A = np.array([[1, 2, 3], [1, 1, -1]])\n",
    "np.shape(A)"
   ]
  },
  {
   "cell_type": "markdown",
   "id": "da7919c5",
   "metadata": {},
   "source": [
    "Vi skapar upp två nya vektorer\n",
    "````\n",
    "x = np.array([3, 2, 1])\n",
    "y = np.array([1, 0, 1])\n",
    "````"
   ]
  },
  {
   "cell_type": "code",
   "execution_count": 4,
   "id": "baeaa14c",
   "metadata": {},
   "outputs": [
    {
     "name": "stdout",
     "output_type": "stream",
     "text": [
      "x = [3 2 1]\n",
      "y = [1 0 1]\n"
     ]
    }
   ],
   "source": [
    "x = np.array([3, 2, 1])\n",
    "y = np.array([1, 0, 1])\n",
    "\n",
    "# Vi skriver ut vektorerna\n",
    "print('x = ' + str(x))\n",
    "print('y = ' + str(y))"
   ]
  },
  {
   "cell_type": "markdown",
   "id": "13680186",
   "metadata": {},
   "source": [
    "Vi kan utföra vanlig vektoraritmetik på dessa, men även specifika kommandon såsom punktprodukt (`np.vdot`)"
   ]
  },
  {
   "cell_type": "code",
   "execution_count": 5,
   "id": "890819d4",
   "metadata": {},
   "outputs": [
    {
     "data": {
      "text/plain": [
       "array([4, 2, 2])"
      ]
     },
     "execution_count": 5,
     "metadata": {},
     "output_type": "execute_result"
    }
   ],
   "source": [
    "x + y"
   ]
  },
  {
   "cell_type": "code",
   "execution_count": 6,
   "id": "4dbfeefd",
   "metadata": {},
   "outputs": [
    {
     "data": {
      "text/plain": [
       "array([ 1,  2, -1])"
      ]
     },
     "execution_count": 6,
     "metadata": {},
     "output_type": "execute_result"
    }
   ],
   "source": [
    "x - 2*y"
   ]
  },
  {
   "cell_type": "code",
   "execution_count": 7,
   "id": "986486e0",
   "metadata": {},
   "outputs": [
    {
     "data": {
      "text/plain": [
       "4"
      ]
     },
     "execution_count": 7,
     "metadata": {},
     "output_type": "execute_result"
    }
   ],
   "source": [
    "np.dot(x, y)"
   ]
  },
  {
   "cell_type": "markdown",
   "id": "2f3e41bd",
   "metadata": {},
   "source": [
    "Vi kan även utföra matrismultiplikation med kommandot `np.matmul`."
   ]
  },
  {
   "cell_type": "code",
   "execution_count": 8,
   "id": "baedf24f",
   "metadata": {},
   "outputs": [
    {
     "data": {
      "text/plain": [
       "array([10,  4])"
      ]
     },
     "execution_count": 8,
     "metadata": {},
     "output_type": "execute_result"
    }
   ],
   "source": [
    "np.matmul(A, x)"
   ]
  },
  {
   "cell_type": "markdown",
   "id": "037255ca",
   "metadata": {},
   "source": [
    "Och i fallet med kvadratiska matriser kan vi upprepa `matmul` med `linalg.matrix_power`"
   ]
  },
  {
   "cell_type": "code",
   "execution_count": 9,
   "id": "873c11e4",
   "metadata": {},
   "outputs": [
    {
     "name": "stdout",
     "output_type": "stream",
     "text": [
      "[[7 9]\n",
      " [3 4]]\n",
      "[[7 9]\n",
      " [3 4]]\n"
     ]
    }
   ],
   "source": [
    "B = np.array([[2, 3], [1, 1]])\n",
    "print(np.linalg.matrix_power(B, 2)) # samma som nedanstående\n",
    "print(np.matmul(B,B))"
   ]
  },
  {
   "cell_type": "markdown",
   "id": "2aed3ed6",
   "metadata": {},
   "source": [
    "Indexeringen startar med index 0, och vill vi ha ett specifikt element i en numpy-array görs detta med följande kommando"
   ]
  },
  {
   "cell_type": "code",
   "execution_count": 10,
   "id": "ed1bf74f",
   "metadata": {},
   "outputs": [
    {
     "data": {
      "text/plain": [
       "3"
      ]
     },
     "execution_count": 10,
     "metadata": {},
     "output_type": "execute_result"
    }
   ],
   "source": [
    "# Detta ger elementet i den första raden och tredje kolumnen\n",
    "A[0, 2]"
   ]
  },
  {
   "cell_type": "code",
   "execution_count": 11,
   "id": "6c7709b2",
   "metadata": {},
   "outputs": [
    {
     "data": {
      "text/plain": [
       "array([ 1,  1, -1])"
      ]
     },
     "execution_count": 11,
     "metadata": {},
     "output_type": "execute_result"
    }
   ],
   "source": [
    "# Detta ger alla element i den andra raden\n",
    "A[1, :]"
   ]
  },
  {
   "cell_type": "code",
   "execution_count": 12,
   "id": "7c04f8dd",
   "metadata": {},
   "outputs": [
    {
     "data": {
      "text/plain": [
       "array([1, 1])"
      ]
     },
     "execution_count": 12,
     "metadata": {},
     "output_type": "execute_result"
    }
   ],
   "source": [
    "# Detta ger alla element i den första kolumnen\n",
    "A[:,0]"
   ]
  },
  {
   "cell_type": "markdown",
   "id": "e6249bd0",
   "metadata": {},
   "source": [
    "## Funktioner\n",
    "Numpy erbjuder en mängd funktioner för olika beräkningar på vektorer. Nedan visas några sådana exempel."
   ]
  },
  {
   "cell_type": "code",
   "execution_count": 13,
   "id": "f0a0bb08",
   "metadata": {},
   "outputs": [
    {
     "name": "stdout",
     "output_type": "stream",
     "text": [
      "Medelvärdet för x är: 3.6\n",
      "Standardavvikelsen för x är: 3.93\n",
      "Största och minsta värdet i x är: 10 och -1\n",
      "Summan av elementen i x är: 18\n",
      "Elementvis kvadrat: [ 16  25   1 100   0]\n"
     ]
    }
   ],
   "source": [
    "# beräkna medelvärde\n",
    "x = [4, 5, -1, 10, 0]\n",
    "print(f'Medelvärdet för x är: {np.mean(x)}')\n",
    "\n",
    "# beräkna standardavvikelse (:.2f) används för att avrunda till 2 decimaler\n",
    "print(f'Standardavvikelsen för x är: {np.std(x):.2f}')\n",
    "\n",
    "# bestäm största och minsta värdet\n",
    "print(f'Största och minsta värdet i x är: {np.max(x)} och {np.min(x)}')\n",
    "\n",
    "# beräkna summan av vektorna element\n",
    "print(f'Summan av elementen i x är: {np.sum(x)}')\n",
    "\n",
    "# elementvis potens\n",
    "print(f'Elementvis kvadrat: {np.power(x, 2)}')"
   ]
  },
  {
   "cell_type": "markdown",
   "id": "7d09452d",
   "metadata": {},
   "source": [
    "## Speciella matriser\n",
    "Vi kan konstruera en mängd speciella matriser och vektorer"
   ]
  },
  {
   "cell_type": "code",
   "execution_count": 14,
   "id": "d451111d",
   "metadata": {},
   "outputs": [
    {
     "data": {
      "text/plain": [
       "array([[0.90423565],\n",
       "       [0.76025876]])"
      ]
     },
     "execution_count": 14,
     "metadata": {},
     "output_type": "execute_result"
    }
   ],
   "source": [
    "np.ones((3,2)) # en ettmatris\n",
    "np.zeros(2) # en nollmatris\n",
    "np.eye(3) # enhetsmatris\n",
    "np.random.random((2,1)) # matris där varje element är likformigt fördelat [0,1]         "
   ]
  },
  {
   "cell_type": "markdown",
   "id": "39558e3d",
   "metadata": {},
   "source": [
    "# Övning\n",
    "\n",
    "Konstruera en slumpmässig $10\\times10$-matris $A$. Skapa en ny maris $B$ som är $A$ men omskalad så att dess största element är 1. Detta kan göras genom att dividera med dess största värde. Undersök sedan vad som händer största och minsta värde för $B^{4}$ (matrismultiplikation), och för $B.^{100}$ (elementvis multiplikation)."
   ]
  },
  {
   "cell_type": "code",
   "execution_count": 15,
   "id": "f5114221",
   "metadata": {},
   "outputs": [
    {
     "name": "stdout",
     "output_type": "stream",
     "text": [
      "0.006666121738836073\n",
      "0.9981565501641573\n",
      "Max vid B^4: 98.32661254083189\n",
      "Min vid B^4: 34.30350679985615\n",
      "Max vid B^100: 99.81565501641573\n",
      "Min vid B^100: 0.6666121738836073\n"
     ]
    }
   ],
   "source": [
    "A = np.random.uniform(low=0, high=100, size=(10,10))\n",
    "B = A/100\n",
    "print(np.min(B))\n",
    "print(np.max(B))\n",
    "print(f\"Max vid B^4: {np.max(np.linalg.matrix_power(B, 4))}\")\n",
    "print(f\"Min vid B^4: {np.min(np.linalg.matrix_power(B, 4))}\")\n",
    "print(f\"Max vid B^100: {np.max(B * 100)}\")\n",
    "print(f\"Min vid B^100: {np.min(B * 100)}\")"
   ]
  },
  {
   "cell_type": "markdown",
   "id": "10fb9006",
   "metadata": {},
   "source": [
    "# Matplotlib\n",
    "Nu när vi bekantat oss lite med numpy kan vi använda detta för att rita grafer med Matplotlib. Specifikt är vi intresserade av submodulen `pyplot`.\n",
    "\n",
    "Kommandot `plt.plot` ger oss möjligheter att skapa plottar. T.ex. kan det användas såhär:\n"
   ]
  },
  {
   "cell_type": "code",
   "execution_count": 16,
   "id": "0897e945",
   "metadata": {},
   "outputs": [
    {
     "name": "stdout",
     "output_type": "stream",
     "text": [
      "Y = [ 0.25934468  0.06326973 -0.10822255  0.03675122 -0.34657903 -0.40882221\n",
      "  0.03545471  0.40426039  0.49586388 -0.25429908  0.44143917  0.27739926\n",
      " -0.03760293 -0.23437873 -0.40889238 -0.08954245 -0.3364711   0.26286983\n",
      " -0.30491133  0.43102419 -0.44920701  0.28978357]\n"
     ]
    },
    {
     "data": {
      "image/png": "[encoded data removed]",
      "text/plain": [
       "<Figure size 432x288 with 1 Axes>"
      ]
     },
     "metadata": {
      "needs_background": "light"
     },
     "output_type": "display_data"
    }
   ],
   "source": [
    "Y = np.random.random(22) - 0.5\n",
    "print(\"Y =\", Y)\n",
    "\n",
    "plt.plot(Y, 'o-')\n",
    "\n",
    "plt.show()"
   ]
  },
  {
   "cell_type": "markdown",
   "id": "35db0205",
   "metadata": {},
   "source": [
    "Rent generellt fungerar Matplotlib väldigt likt `plot` i MATLAB. Givet en vektor `t`, så kan vi plotta dess värden, eller en funktion av dessa värden."
   ]
  },
  {
   "cell_type": "code",
   "execution_count": 17,
   "id": "438e39e2",
   "metadata": {},
   "outputs": [
    {
     "name": "stdout",
     "output_type": "stream",
     "text": [
      "t = [0.  0.2 0.4 0.6 0.8 1.  1.2 1.4 1.6 1.8 2.  2.2 2.4 2.6 2.8 3.  3.2 3.4\n",
      " 3.6 3.8 4.  4.2 4.4 4.6 4.8]\n"
     ]
    },
    {
     "data": {
      "image/png": "[encoded data removed]",
      "text/plain": [
       "<Figure size 432x288 with 1 Axes>"
      ]
     },
     "metadata": {
      "needs_background": "light"
     },
     "output_type": "display_data"
    }
   ],
   "source": [
    "t = np.arange(0., 5., 0.2)\n",
    "print(\"t =\", t)\n",
    "\n",
    "# red dashes, blue squares, and green circles with lines\n",
    "plt.plot(t, 'r--')\n",
    "plt.plot(t ** 2, 'bs')\n",
    "plt.plot(np.sin(t), 'go-')\n",
    "\n",
    "plt.show()"
   ]
  },
  {
   "cell_type": "markdown",
   "id": "8ef3d348",
   "metadata": {},
   "source": [
    "Vi kan enkelt lägga till mer information, i vår plot. T.ex. "
   ]
  },
  {
   "cell_type": "code",
   "execution_count": 19,
   "id": "1350ca74",
   "metadata": {},
   "outputs": [
    {
     "data": {
      "image/png": "[encoded data removed]",
      "text/plain": [
       "<Figure size 432x288 with 1 Axes>"
      ]
     },
     "metadata": {
      "needs_background": "light"
     },
     "output_type": "display_data"
    }
   ],
   "source": [
    "# För funktionen plot finns ett label-argument\n",
    "plt.plot(t, 'r--', label='t')\n",
    "plt.plot(t**2, 'bs', label='t squared')\n",
    "plt.plot(np.sin(t), 'go-', label='sin')\n",
    "\n",
    "plt.legend() # ger oss en legend över alla våra plottar\n",
    "plt.title(\"Exempel på plot\")\n",
    "plt.xlabel(\"t\")\n",
    "plt.ylabel(\"f(t)\")\n",
    "\n",
    "plt.show()"
   ]
  },
  {
   "cell_type": "markdown",
   "id": "cd8ce75c",
   "metadata": {},
   "source": [
    "Antag vidare att vi vill göra ett spridningsdiagram av vår vektor. Ett alternativ är att använda `plt.plot(t, '.')`, men för att"
   ]
  },
  {
   "cell_type": "code",
   "execution_count": 20,
   "id": "e2c9d66a",
   "metadata": {},
   "outputs": [
    {
     "data": {
      "image/png": "[encoded data removed]",
      "text/plain": [
       "<Figure size 432x288 with 1 Axes>"
      ]
     },
     "metadata": {
      "needs_background": "light"
     },
     "output_type": "display_data"
    }
   ],
   "source": [
    "plt.plot(t, '.', label='t')\n",
    "plt.plot(Y, '.', label='Y') # samma Y som tidigare\n",
    "\n",
    "plt.legend()\n",
    "plt.show()"
   ]
  },
  {
   "cell_type": "markdown",
   "id": "5f93ab2d",
   "metadata": {},
   "source": [
    "Subplots är ett verktyg för att dela in figurerna i flera delfigurer. Det kan användas på följande sätt."
   ]
  },
  {
   "cell_type": "code",
   "execution_count": 21,
   "id": "400ca3df",
   "metadata": {},
   "outputs": [
    {
     "data": {
      "image/png": "[encoded data removed]",
      "text/plain": [
       "<Figure size 1080x360 with 3 Axes>"
      ]
     },
     "metadata": {
      "needs_background": "light"
     },
     "output_type": "display_data"
    }
   ],
   "source": [
    "# notera att t definierades i föregående cell\n",
    "\n",
    "plt.figure(figsize=(15,5))\n",
    "plt.suptitle(\"Matplotlib example (with subplots)\")\n",
    "\n",
    "# Notice the \"label\" arguments added to each plot\n",
    "plt.subplot(131)\n",
    "plt.plot(t, 'r--', label='t')\n",
    "plt.legend()\n",
    "plt.xlabel(\"t\")\n",
    "plt.ylabel(\"f(t)\")\n",
    "\n",
    "plt.subplot(132)\n",
    "plt.plot(t**2, 'bs', label='t ** 2')\n",
    "plt.legend()\n",
    "plt.xlabel(\"t\")\n",
    "plt.ylabel(\"f(t)\")\n",
    "\n",
    "plt.subplot(133)\n",
    "plt.plot(np.sin(t), 'go-', label='sin(t)')\n",
    "plt.legend()\n",
    "plt.xlabel(\"t\")\n",
    "plt.ylabel(\"f(t)\")\n",
    "\n",
    "plt.show()"
   ]
  },
  {
   "cell_type": "markdown",
   "id": "ebdb13ae",
   "metadata": {},
   "source": [
    "I ovanstående exempel har Matplotlib själv valt våra $x$-värden, men vi kan såklart skicka in både $x$ och $y$ i en plot."
   ]
  },
  {
   "cell_type": "code",
   "execution_count": 22,
   "id": "9b17392a",
   "metadata": {},
   "outputs": [
    {
     "data": {
      "image/png": "[encoded data removed]",
      "text/plain": [
       "<Figure size 432x288 with 1 Axes>"
      ]
     },
     "metadata": {
      "needs_background": "light"
     },
     "output_type": "display_data"
    }
   ],
   "source": [
    "x = np.arange(-4., 4., 0.1)\n",
    "y = np.cos(x)\n",
    "plt.xlabel(\"x\")\n",
    "plt.ylabel(\"cos(x)\")\n",
    "plt.plot(x, y)\n",
    "plt.show()"
   ]
  },
  {
   "cell_type": "markdown",
   "id": "5e0b4edd",
   "metadata": {},
   "source": [
    "# Övning\n",
    "\n",
    "1. Skriv kod för att plotta funktionen $f(x) = \\exp(x)$ i intervallet $[-3,3]$. Den ska vara grön-streckad.\n",
    "2. Lägg sedan till i din plot logaritmen av $x$. Denna ska vara plottad med röda punkter. Tänk på att den ska vara definerad i intervallet för att plotta ska fungera utan fel.\n",
    "3. Lägg till labels för dina plottar och en legend."
   ]
  },
  {
   "cell_type": "code",
   "execution_count": 24,
   "id": "8764066a",
   "metadata": {},
   "outputs": [
    {
     "data": {
      "image/png": "[encoded data removed]",
      "text/plain": [
       "<Figure size 432x288 with 1 Axes>"
      ]
     },
     "metadata": {
      "needs_background": "light"
     },
     "output_type": "display_data"
    }
   ],
   "source": [
    "x = np.arange(-3., 3., 0.1)\n",
    "y = np.exp(x)\n",
    "plt.xlabel(\"x\")\n",
    "plt.ylabel(\"f(x)\")\n",
    "plt.plot(x, y, 'g--', label='exp(x)')\n",
    "x = np.arange(0., 3., 0.1)\n",
    "plt.plot(x[x>0], np.log(x[x>0]), 'r.', label='log(x)')\n",
    "plt.legend()\n",
    "plt.show()"
   ]
  },
  {
   "cell_type": "markdown",
   "id": "3ff0f981",
   "metadata": {},
   "source": [
    "# Pandas och Seaborn\n",
    "Nu när vi bekantat oss lite med numpy och Matplotlib, så kommer vi till Pandas. Pandas är ett paket för datamanipulering och datastrukturer. Data sparas i så kallade dataframes. Dessa kan konstrueras som följer, t.ex. från en numpy-array, eller en dict.\n",
    "\n",
    "Vanligen importeras Pandas som `import pandas as pd` och Seaborn som `import seaborn as sns`."
   ]
  },
  {
   "cell_type": "code",
   "execution_count": 25,
   "id": "7dc190e3",
   "metadata": {},
   "outputs": [
    {
     "data": {
      "text/html": [
       "<div>\n",
       "<style scoped>\n",
       "    .dataframe tbody tr th:only-of-type {\n",
       "        vertical-align: middle;\n",
       "    }\n",
       "\n",
       "    .dataframe tbody tr th {\n",
       "        vertical-align: top;\n",
       "    }\n",
       "\n",
       "    .dataframe thead th {\n",
       "        text-align: right;\n",
       "    }\n",
       "</style>\n",
       "<table border=\"1\" class=\"dataframe\">\n",
       "  <thead>\n",
       "    <tr style=\"text-align: right;\">\n",
       "      <th></th>\n",
       "      <th>0</th>\n",
       "      <th>1</th>\n",
       "    </tr>\n",
       "  </thead>\n",
       "  <tbody>\n",
       "    <tr>\n",
       "      <th>0</th>\n",
       "      <td>1</td>\n",
       "      <td>3</td>\n",
       "    </tr>\n",
       "    <tr>\n",
       "      <th>1</th>\n",
       "      <td>2</td>\n",
       "      <td>4</td>\n",
       "    </tr>\n",
       "    <tr>\n",
       "      <th>2</th>\n",
       "      <td>5</td>\n",
       "      <td>8</td>\n",
       "    </tr>\n",
       "  </tbody>\n",
       "</table>\n",
       "</div>"
      ],
      "text/plain": [
       "   0  1\n",
       "0  1  3\n",
       "1  2  4\n",
       "2  5  8"
      ]
     },
     "execution_count": 25,
     "metadata": {},
     "output_type": "execute_result"
    }
   ],
   "source": [
    "# Dataframe från numpy\n",
    "d = np.array([[1, 3], [2, 4], [5, 8]])\n",
    "df = pd.DataFrame(data=d)\n",
    "df"
   ]
  },
  {
   "cell_type": "code",
   "execution_count": 26,
   "id": "9c9e3271",
   "metadata": {},
   "outputs": [
    {
     "data": {
      "text/html": [
       "<div>\n",
       "<style scoped>\n",
       "    .dataframe tbody tr th:only-of-type {\n",
       "        vertical-align: middle;\n",
       "    }\n",
       "\n",
       "    .dataframe tbody tr th {\n",
       "        vertical-align: top;\n",
       "    }\n",
       "\n",
       "    .dataframe thead th {\n",
       "        text-align: right;\n",
       "    }\n",
       "</style>\n",
       "<table border=\"1\" class=\"dataframe\">\n",
       "  <thead>\n",
       "    <tr style=\"text-align: right;\">\n",
       "      <th></th>\n",
       "      <th>col1</th>\n",
       "      <th>col2</th>\n",
       "    </tr>\n",
       "  </thead>\n",
       "  <tbody>\n",
       "    <tr>\n",
       "      <th>0</th>\n",
       "      <td>1</td>\n",
       "      <td>3</td>\n",
       "    </tr>\n",
       "    <tr>\n",
       "      <th>1</th>\n",
       "      <td>2</td>\n",
       "      <td>4</td>\n",
       "    </tr>\n",
       "    <tr>\n",
       "      <th>2</th>\n",
       "      <td>5</td>\n",
       "      <td>8</td>\n",
       "    </tr>\n",
       "  </tbody>\n",
       "</table>\n",
       "</div>"
      ],
      "text/plain": [
       "   col1  col2\n",
       "0     1     3\n",
       "1     2     4\n",
       "2     5     8"
      ]
     },
     "execution_count": 26,
     "metadata": {},
     "output_type": "execute_result"
    }
   ],
   "source": [
    "# DataFrame från dict\n",
    "d = {'col1': [1, 2, 5], 'col2': [3, 4, 8]}\n",
    "df = pd.DataFrame(data=d)\n",
    "df"
   ]
  },
  {
   "cell_type": "markdown",
   "id": "6c799a19",
   "metadata": {},
   "source": [
    "En av Pandas många förtjänster är att det fungerar ypperligt som input till Seaborn som är ett verktyg för statistik data visualisering."
   ]
  },
  {
   "cell_type": "code",
   "execution_count": 27,
   "id": "fd58305c",
   "metadata": {},
   "outputs": [
    {
     "data": {
      "image/png": "[encoded data removed]",
      "text/plain": [
       "<Figure size 432x288 with 1 Axes>"
      ]
     },
     "metadata": {
      "needs_background": "light"
     },
     "output_type": "display_data"
    }
   ],
   "source": [
    "sns.lineplot(data=df, x=\"col1\", y=\"col2\") # hämtar data från Pandas dataframe df\n",
    "plt.show()"
   ]
  },
  {
   "cell_type": "code",
   "execution_count": 28,
   "id": "f77338dc",
   "metadata": {},
   "outputs": [
    {
     "data": {
      "image/png": "[encoded data removed]",
      "text/plain": [
       "<Figure size 432x288 with 1 Axes>"
      ]
     },
     "metadata": {
      "needs_background": "light"
     },
     "output_type": "display_data"
    }
   ],
   "source": [
    "pl = sns.scatterplot(data=df, x=\"col1\", y=\"col2\")\n",
    "pl.set_xlabel(\"x-direction\")\n",
    "pl.set_ylabel(\"y-direction\")\n",
    "plt.show()"
   ]
  },
  {
   "cell_type": "markdown",
   "id": "84cc9605",
   "metadata": {},
   "source": [
    "Vi kan även skapa histogram med hjälp av kommandot `histplot`. För att demonstrera dras 100 slumpmässiga värden från en standard normalfördelning."
   ]
  },
  {
   "cell_type": "code",
   "execution_count": 29,
   "id": "47e8629e",
   "metadata": {},
   "outputs": [
    {
     "data": {
      "image/png": "[encoded data removed]",
      "text/plain": [
       "<Figure size 432x288 with 1 Axes>"
      ]
     },
     "metadata": {
      "needs_background": "light"
     },
     "output_type": "display_data"
    }
   ],
   "source": [
    "drnd = np.random.randn(100, 1)\n",
    "sns.histplot(data=drnd)\n",
    "plt.show()"
   ]
  },
  {
   "cell_type": "markdown",
   "id": "b4a16d5c",
   "metadata": {},
   "source": [
    "Genom att skicka in data med flera kolumner så kan vi enkelt ett histogram för varje kolumn. Vidare kan vi återanvända det vi kan från Matplotlib för att förfina våra plottar."
   ]
  },
  {
   "cell_type": "code",
   "execution_count": 30,
   "id": "5f832a80",
   "metadata": {},
   "outputs": [
    {
     "data": {
      "image/png": "[encoded data removed]",
      "text/plain": [
       "<Figure size 432x288 with 1 Axes>"
      ]
     },
     "metadata": {
      "needs_background": "light"
     },
     "output_type": "display_data"
    }
   ],
   "source": [
    "datarnd = np.random.randn(100, 2)\n",
    "sns.histplot(data=datarnd)\n",
    "plt.xlabel(\"x\")\n",
    "plt.ylabel(\"y\")\n",
    "plt.title(\"x vs y\")\n",
    "plt.show()"
   ]
  },
  {
   "cell_type": "markdown",
   "id": "80233b69",
   "metadata": {},
   "source": [
    "# Övning\n",
    "\n",
    "1. Slumpa $100$ tal i från en standardnormalfördelning med hjälp av numpy (`np.random.randn`). Studera sedan histogrammet. Använd 10 bins.\n",
    "2. Inkludera också i din plot en plot av funktionen $f(x) = \\frac{1}{\\sqrt{2\\pi}}\\exp(-\\frac{x^2}{2})$.\n",
    "3. Ändra stat i ditt histogram till `stat = 'density'`. Vad händer med bilden?\n"
   ]
  },
  {
   "cell_type": "code",
   "execution_count": 71,
   "id": "a74894f5",
   "metadata": {},
   "outputs": [
    {
     "data": {
      "image/png": "[encoded data removed]",
      "text/plain": [
       "<Figure size 432x288 with 1 Axes>"
      ]
     },
     "metadata": {
      "needs_background": "light"
     },
     "output_type": "display_data"
    }
   ],
   "source": [
    "datarnd = np.random.randn(100)\n",
    "sns.histplot(data=datarnd, stat = 'density', bins = 10)\n",
    "x = np.linspace(-3, 3, 1000)\n",
    "y = (1/np.sqrt(2*np.pi))*np.exp(-x**2/2)\n",
    "plt.plot(x, y, 'g--', label='Std')\n",
    "plt.xlabel(\"x\")\n",
    "plt.ylabel(\"y\")\n",
    "plt.show()"
   ]
  },
  {
   "cell_type": "markdown",
   "id": "6a3ef977",
   "metadata": {},
   "source": [
    "# Forsättning histogram\n",
    "Genom att använda argumentet `stat` kan vi förändra skalningen på histogrammet.\n",
    "\n",
    " - `count`: visa antalet observationer i varje bin\n",
    " - `frequency`: visa antalet observationer delat med stapelns bredd (bredd på varje bin)\n",
    " - `probability` or proportion: normalisera så staplarnas höjd summerar till 1\n",
    " - `percent`: normalisera så staplarnas höjd summerar till 1\n",
    " - `density`: normalisera så diagrammet har area 1\n",
    " \n",
    "\n",
    "Argumentet `bins` ger oss hur många staplar vi vill att histogrammet ska inneha."
   ]
  },
  {
   "cell_type": "code",
   "execution_count": 72,
   "id": "afac82dc",
   "metadata": {},
   "outputs": [
    {
     "data": {
      "text/plain": [
       "<Axes: ylabel='Count'>"
      ]
     },
     "execution_count": 72,
     "metadata": {},
     "output_type": "execute_result"
    },
    {
     "data": {
      "image/png": "[encoded data removed]",
      "text/plain": [
       "<Figure size 432x288 with 1 Axes>"
      ]
     },
     "metadata": {
      "needs_background": "light"
     },
     "output_type": "display_data"
    }
   ],
   "source": [
    "x = np.random.randn(1000)\n",
    "sns.histplot(x, stat = 'count', bins=20)"
   ]
  },
  {
   "cell_type": "markdown",
   "id": "4e06fe59",
   "metadata": {},
   "source": [
    "Vi kan enkelt kombinera flera olika plottar i samma bild genom att lista dessa på rad."
   ]
  },
  {
   "cell_type": "code",
   "execution_count": 73,
   "id": "8ad954a7",
   "metadata": {},
   "outputs": [
    {
     "data": {
      "text/plain": [
       "<Axes: ylabel='Density'>"
      ]
     },
     "execution_count": 73,
     "metadata": {},
     "output_type": "execute_result"
    },
    {
     "data": {
      "image/png": "[encoded data removed]",
      "text/plain": [
       "<Figure size 432x288 with 1 Axes>"
      ]
     },
     "metadata": {
      "needs_background": "light"
     },
     "output_type": "display_data"
    }
   ],
   "source": [
    "sns.histplot(x, stat = 'density')\n",
    "y = np.random.random(1000)\n",
    "sns.histplot(y, stat = 'density')"
   ]
  },
  {
   "cell_type": "markdown",
   "id": "b51581c2",
   "metadata": {},
   "source": [
    "Genom att lägga samma all data i en DataFrame kan vi plotta båda fördelningarna på en gång."
   ]
  },
  {
   "cell_type": "code",
   "execution_count": 74,
   "id": "44cb9678",
   "metadata": {},
   "outputs": [
    {
     "data": {
      "text/plain": [
       "<Axes: ylabel='Count'>"
      ]
     },
     "execution_count": 74,
     "metadata": {},
     "output_type": "execute_result"
    },
    {
     "data": {
      "image/png": "[encoded data removed]",
      "text/plain": [
       "<Figure size 432x288 with 1 Axes>"
      ]
     },
     "metadata": {
      "needs_background": "light"
     },
     "output_type": "display_data"
    }
   ],
   "source": [
    "df = pd.DataFrame(np.transpose([x, y]))\n",
    "df.columns = ['Normal', 'Likformig']\n",
    "sns.histplot(data = df)"
   ]
  },
  {
   "cell_type": "markdown",
   "id": "b1e7a3b9",
   "metadata": {},
   "source": [
    "# Övning\n",
    "\n",
    "Ladda in datamängden `iris` med kommandot `iris = sns.load_dataset('iris')`. Datan består av fyra kolumner av olika mätvärden. Plotta fördelningen av alla dessa med hjälp av ett histogram.\n",
    "\n",
    "Gör också en figur bestående av fyra separata plottar med en fördelning i varje. Alla fördelningarna ska ha olika färger (argumentet `color` kan vara behjälpligt här). Slutligen ska alla fyra plottar ha samma $y$-range $[0, 50]$. Här kan du t.ex. använda `plt.ylim( ditt intervall )`"
   ]
  },
  {
   "cell_type": "code",
   "execution_count": 93,
   "id": "f75dfe1a",
   "metadata": {},
   "outputs": [
    {
     "data": {
      "image/png": "[encoded data removed]",
      "text/plain": [
       "<Figure size 432x288 with 1 Axes>"
      ]
     },
     "metadata": {
      "needs_background": "light"
     },
     "output_type": "display_data"
    },
    {
     "data": {
      "text/plain": [
       "Text(0, 0.5, 'y')"
      ]
     },
     "execution_count": 93,
     "metadata": {},
     "output_type": "execute_result"
    },
    {
     "data": {
      "image/png": "[encoded data removed]",
      "text/plain": [
       "<Figure size 1440x360 with 4 Axes>"
      ]
     },
     "metadata": {
      "needs_background": "light"
     },
     "output_type": "display_data"
    }
   ],
   "source": [
    "plt.ylim(0, 50)\n",
    "iris = sns.load_dataset('iris')\n",
    "sns.histplot(data=iris, x='sepal_length', color='blue', label='Sepal length')\n",
    "sns.histplot(data=iris, x='sepal_width', color='green', label='Sepal width')\n",
    "sns.histplot(data=iris, x='petal_length', color='orange', label='Petal length')\n",
    "sns.histplot(data=iris, x='petal_width', color='red', label='Petal width')\n",
    "plt.legend()\n",
    "plt.show()\n",
    "\n",
    "plt.figure(figsize=(20,5))\n",
    "plt.suptitle(\"Iris column plots\")\n",
    "\n",
    "plt.subplot(141)\n",
    "plt.ylim(0, 50)\n",
    "sns.histplot(data=iris, x='sepal_length', label='sepal_length', color='blue')\n",
    "plt.legend()\n",
    "plt.xlabel(\"x\")\n",
    "plt.ylabel(\"y\")\n",
    "\n",
    "plt.subplot(142)\n",
    "plt.ylim(0, 50)\n",
    "sns.histplot(data=iris, x='sepal_width', label='sepal_width', color='green')\n",
    "plt.legend()\n",
    "plt.xlabel(\"x\")\n",
    "plt.ylabel(\"y\")\n",
    "\n",
    "plt.subplot(143)\n",
    "plt.ylim(0, 50)\n",
    "sns.histplot(data=iris, x='petal_length', label='petal_length', color='orange')\n",
    "plt.legend()\n",
    "plt.xlabel(\"x\")\n",
    "plt.ylabel(\"y\")\n",
    "\n",
    "plt.subplot(144)\n",
    "plt.ylim(0, 50)\n",
    "sns.histplot(data=iris, x='petal_width', label='petal_width', color='red')\n",
    "plt.legend()\n",
    "plt.xlabel(\"x\")\n",
    "plt.ylabel(\"y\")\n",
    "\n",
    "\n"
   ]
  }
 ],
 "metadata": {
  "kernelspec": {
   "display_name": "Python 3.9.12 ('base')",
   "language": "python",
   "name": "python3"
  },
  "language_info": {
   "codemirror_mode": {
    "name": "ipython",
    "version": 3
   },
   "file_extension": ".py",
   "mimetype": "text/x-python",
   "name": "python",
   "nbconvert_exporter": "python",
   "pygments_lexer": "ipython3",
   "version": "3.9.12"
  },
  "vscode": {
   "interpreter": {
    "hash": "40d3a090f54c6569ab1632332b64b2c03c39dcf918b08424e98f38b5ae0af88f"
   }
  }
 },
 "nbformat": 4,
 "nbformat_minor": 5
}
